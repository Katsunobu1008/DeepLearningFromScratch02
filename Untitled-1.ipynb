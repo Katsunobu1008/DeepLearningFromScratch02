{
 "cells": [
  {
   "cell_type": "code",
   "execution_count": 1,
   "metadata": {},
   "outputs": [
    {
     "name": "stdout",
     "output_type": "stream",
     "text": [
      "[1 2 3]\n"
     ]
    }
   ],
   "source": [
    "import numpy as np\n",
    "x = np.array([1,2,3])\n",
    "print(x)"
   ]
  },
  {
   "cell_type": "code",
   "execution_count": 1,
   "metadata": {},
   "outputs": [
    {
     "name": "stdout",
     "output_type": "stream",
     "text": [
      "[[ 9 12 15]\n",
      " [19 26 33]\n",
      " [29 40 51]]\n"
     ]
    }
   ],
   "source": [
    "import numpy as np\n",
    "x = np.array([[1, 2], [3, 4], [5, 6]])\n",
    "y= np.array([[1, 2, 3], [4, 5, 6]])\n",
    "n = np.dot(x, y)\n",
    "print(n)\n"
   ]
  },
  {
   "cell_type": "code",
   "execution_count": 5,
   "metadata": {},
   "outputs": [
    {
     "name": "stdout",
     "output_type": "stream",
     "text": [
      "[[1.94348152 2.20605241 2.98592997]\n",
      " [2.14791343 2.4033595  3.24603116]\n",
      " [2.30944095 2.52772163 3.42666742]\n",
      " [2.24362042 2.44052543 3.34550156]\n",
      " [2.15844011 2.39858351 3.26005936]\n",
      " [2.29350296 2.50453521 3.41416543]\n",
      " [2.43569131 2.62452249 3.57626116]\n",
      " [2.00616495 2.23766623 3.0592839 ]\n",
      " [2.16642963 2.40590891 3.25998457]\n",
      " [2.42973387 2.57786708 3.55583845]]\n"
     ]
    }
   ],
   "source": [
    "import numpy as np\n",
    "\n",
    "x1 = np.random.rand(10, 4)\n",
    "w1 = np.random.rand(4,5)\n",
    "b1 = np.random.rand(5)\n",
    "w2 = np.random.rand(5, 3)\n",
    "b2 = np.random.rand(3)\n",
    "\n",
    "#sigmoid\n",
    "def sigmoid(x):\n",
    "    return 1/(1+np.exp(-x))\n",
    "\n",
    "h = sigmoid(np.dot(x1, w1) + b1)\n",
    "y = np.dot(h, w2) + b2\n",
    "print(y)"
   ]
  },
  {
   "cell_type": "code",
   "execution_count": null,
   "metadata": {},
   "outputs": [],
   "source": [
    "import numpy as np\n",
    "\n",
    "# ======================\n",
    "# 0. 学習データを準備\n",
    "# ======================\n",
    "# 入力x: (10,4)  ->  10サンプル, 特徴量4次元\n",
    "x = np.random.rand(10, 4)\n",
    "\n",
    "# 正解ラベル: 3クラス分類(0~2)を適当に10件用意\n",
    "# 例: [0, 2, 1, 0, 1, ...]\n",
    "t = np.random.randint(0, 3, size=(10,))\n",
    "\n",
    "# one-hotベクトル化: (10,3) へ\n",
    "# たとえばクラス0なら [1,0,0] 、クラス2なら [0,0,1] 等\n",
    "t_one_hot = np.eye(3)[t]  # shape: (10,3)\n",
    "\n",
    "\n",
    "# ======================\n",
    "# 1. パラメータの初期化\n",
    "# ======================\n",
    "w1 = np.random.randn(4, 5)  # (4->5)\n",
    "b1 = np.random.randn(5)     # (5,)\n",
    "w2 = np.random.randn(5, 3)  # (5->3)\n",
    "b2 = np.random.randn(3)     # (3,)\n",
    "\n",
    "# 学習率 (learning rate)\n",
    "lr = 0.1\n",
    "\n",
    "\n",
    "# ======================\n",
    "# 2. 順伝播 (forward)\n",
    "# ======================\n",
    "def sigmoid(x):\n",
    "    return 1.0 / (1.0 + np.exp(-x))\n",
    "\n",
    "def softmax(x):\n",
    "    # x: (N,3)\n",
    "    # 数値安定化のために最大値を引いてからexp\n",
    "    x_shift = x - np.max(x, axis=1, keepdims=True)\n",
    "    return np.exp(x_shift) / np.sum(np.exp(x_shift), axis=1, keepdims=True)\n",
    "\n",
    "# --- 第1層 (隠れ層) ---\n",
    "h = sigmoid(np.dot(x, w1) + b1)  # shape: (10,5)\n",
    "\n",
    "# --- 第2層 (出力層) ---\n",
    "logits = np.dot(h, w2) + b2      # shape: (10,3)\n",
    "y = softmax(logits)              # shape: (10,3)\n",
    "\n",
    "\n",
    "# ======================\n",
    "# 3. 損失関数 (cross entropy)\n",
    "# ======================\n",
    "def cross_entropy(pred, true_onehot):\n",
    "    # pred: (N,3), true_onehot: (N,3)\n",
    "    # 各サンプルごとの -∑ t_i log(y_i) を平均\n",
    "    eps = 1e-7\n",
    "    return -np.mean(np.sum(true_onehot * np.log(pred + eps), axis=1))\n",
    "\n",
    "loss = cross_entropy(y, t_one_hot)\n",
    "print(\"Before update, Loss:\", loss)\n",
    "\n",
    "\n",
    "# ======================\n",
    "# 4. 逆伝播 (backpropagation)\n",
    "# ======================\n",
    "# ここでは手計算で導出された勾配式を直接実装します。\n",
    "\n",
    "# 4.1 出力層の勾配\n",
    "#   「ソフトマックス＋クロスエントロピー」の場合、\n",
    "#   dL/d(logits) = (y - t_one_hot) / N (Nはサンプル数)\n",
    "N = x.shape[0]\n",
    "delta_out = (y - t_one_hot) / N  # shape: (10,3)\n",
    "\n",
    "# 4.2 第2層パラメータ w2, b2 の勾配\n",
    "grad_w2 = np.dot(h.T, delta_out)      # shape: (5,3)\n",
    "grad_b2 = np.sum(delta_out, axis=0)   # shape: (3,)\n",
    "\n",
    "# 4.3 第1層の勾配\n",
    "#   dL/dh = delta_out · w2^T\n",
    "delta_h = np.dot(delta_out, w2.T)  # shape: (10,5)\n",
    "\n",
    "#   シグモイドの勾配： d(sigmoid)/dx = sigmoid(x)*(1-sigmoid(x))\n",
    "#   よって dL/dz1 = dL/dh * sigmoid'(z1)\n",
    "#   z1 = x·w1 + b1 の出力に対応する入力 z1\n",
    "#   ただし今回は z1 を明示的に保持してないので h から計算\n",
    "delta_z1 = delta_h * (h * (1 - h))  # shape: (10,5)\n",
    "\n",
    "# 4.4 第1層パラメータ w1, b1 の勾配\n",
    "grad_w1 = np.dot(x.T, delta_z1)     # shape: (4,5)\n",
    "grad_b1 = np.sum(delta_z1, axis=0)  # shape: (5,)\n",
    "\n",
    "# ======================\n",
    "# 5. パラメータ更新 (勾配降下法)\n",
    "# ======================\n",
    "w1 -= lr * grad_w1\n",
    "b1 -= lr * grad_b1\n",
    "w2 -= lr * grad_w2\n",
    "b2 -= lr * grad_b2\n",
    "\n",
    "\n",
    "# ======================\n",
    "# 6. 更新後の損失を確認 (もう一度forward)\n",
    "# ======================\n",
    "h = sigmoid(np.dot(x, w1) + b1)\n",
    "logits = np.dot(h, w2) + b2\n",
    "y = softmax(logits)\n",
    "\n",
    "loss = cross_entropy(y, t_one_hot)\n",
    "print(\"After update, Loss :\", loss)\n"
   ]
  },
  {
   "cell_type": "code",
   "execution_count": null,
   "metadata": {},
   "outputs": [],
   "source": []
  },
  {
   "cell_type": "code",
   "execution_count": null,
   "metadata": {},
   "outputs": [],
   "source": []
  },
  {
   "cell_type": "code",
   "execution_count": null,
   "metadata": {},
   "outputs": [],
   "source": []
  },
  {
   "cell_type": "code",
   "execution_count": null,
   "metadata": {},
   "outputs": [],
   "source": []
  },
  {
   "cell_type": "code",
   "execution_count": null,
   "metadata": {},
   "outputs": [],
   "source": []
  },
  {
   "cell_type": "code",
   "execution_count": null,
   "metadata": {},
   "outputs": [],
   "source": []
  },
  {
   "cell_type": "code",
   "execution_count": null,
   "metadata": {},
   "outputs": [],
   "source": []
  },
  {
   "cell_type": "code",
   "execution_count": null,
   "metadata": {},
   "outputs": [],
   "source": []
  },
  {
   "cell_type": "code",
   "execution_count": null,
   "metadata": {},
   "outputs": [],
   "source": []
  },
  {
   "cell_type": "code",
   "execution_count": null,
   "metadata": {},
   "outputs": [],
   "source": []
  },
  {
   "cell_type": "code",
   "execution_count": null,
   "metadata": {},
   "outputs": [],
   "source": []
  },
  {
   "cell_type": "code",
   "execution_count": null,
   "metadata": {},
   "outputs": [],
   "source": []
  },
  {
   "cell_type": "code",
   "execution_count": null,
   "metadata": {},
   "outputs": [],
   "source": []
  },
  {
   "cell_type": "code",
   "execution_count": null,
   "metadata": {},
   "outputs": [],
   "source": []
  }
 ],
 "metadata": {
  "kernelspec": {
   "display_name": "base",
   "language": "python",
   "name": "python3"
  },
  "language_info": {
   "codemirror_mode": {
    "name": "ipython",
    "version": 3
   },
   "file_extension": ".py",
   "mimetype": "text/x-python",
   "name": "python",
   "nbconvert_exporter": "python",
   "pygments_lexer": "ipython3",
   "version": "3.6.5"
  }
 },
 "nbformat": 4,
 "nbformat_minor": 2
}
